{
 "cells": [
  {
   "cell_type": "code",
   "execution_count": 3,
   "metadata": {},
   "outputs": [],
   "source": [
    "import numpy as np\n",
    "import rasterio"
   ]
  },
  {
   "cell_type": "code",
   "execution_count": 6,
   "metadata": {},
   "outputs": [
    {
     "name": "stdout",
     "output_type": "stream",
     "text": [
      "bounds count = 1\n",
      "CRS = EPSG:4326\n",
      "BoundingBox(left=29.566633136000007, bottom=49.434589403000004, right=31.185382877000006, top=50.486672568)\n",
      "777\n",
      "505\n",
      "| 0.00, 0.00, 29.57|\n",
      "| 0.00,-0.00, 50.49|\n",
      "| 0.00, 0.00, 1.00|\n"
     ]
    }
   ],
   "source": [
    "dataset = rasterio.open('soil_moisture.tif')\n",
    "print('bounds count =', dataset.count)\n",
    "print('CRS =',dataset.crs)\n",
    "print(dataset.bounds)\n",
    "print(dataset.width)\n",
    "print(dataset.height)\n",
    "print(dataset.transform)\n",
    "# print(dataset.transform * (0, 0))\n",
    "# print(dataset.transform * (dataset.width, dataset.height))"
   ]
  }
 ],
 "metadata": {
  "kernelspec": {
   "display_name": "environment",
   "language": "python",
   "name": "python3"
  },
  "language_info": {
   "codemirror_mode": {
    "name": "ipython",
    "version": 3
   },
   "file_extension": ".py",
   "mimetype": "text/x-python",
   "name": "python",
   "nbconvert_exporter": "python",
   "pygments_lexer": "ipython3",
   "version": "3.10.10"
  },
  "orig_nbformat": 4
 },
 "nbformat": 4,
 "nbformat_minor": 2
}
